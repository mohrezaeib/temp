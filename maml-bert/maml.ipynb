{
 "cells": [
  {
   "cell_type": "code",
   "execution_count": 1,
   "metadata": {},
   "outputs": [
    {
     "name": "stderr",
     "output_type": "stream",
     "text": [
      "/home/mohre/.local/lib/python3.8/site-packages/tqdm/auto.py:22: TqdmWarning: IProgress not found. Please update jupyter and ipywidgets. See https://ipywidgets.readthedocs.io/en/stable/user_install.html\n",
      "  from .autonotebook import tqdm as notebook_tqdm\n"
     ]
    }
   ],
   "source": []
  },
  {
   "cell_type": "code",
   "execution_count": 13,
   "metadata": {},
   "outputs": [
    {
     "data": {
      "text/plain": [
       "0    MAVEPLRVLVTGAAGQIGYALVPMIARGIMLGANQPVILHMLDIPP...\n",
       "1    MKVAVLGAAGGIGQALALLLKTQLPAGSELSLYDIAPVTPGVAVDL...\n",
       "2    MFATRQAFNLFQKRAFSASARQSSKVAILGAAGGIGQPLSLLMKLN...\n",
       "3    MFATRQAFNLFQKRAFSASARQSSKVAILGAAGGIGQPLSLLMKLN...\n",
       "4    MKLGFVGAGRVGSTSAFTCLLNLDVDEIALVDIAEDLAVGEAMDLA...\n",
       "5    MPGPLRVLITGAAGQIAYNLSNMVANGNLFGKDQKIILHLLDIPEA...\n",
       "6    MKTPVKIAVTGAAGQISYSLLFRLASGELLGPDQPMIFHLLETPQA...\n",
       "7    MITIVGSGRVGTAAAAIMGIMRIDKKILLIDIVKGLPQGEALDLNH...\n",
       "8    MKAPVRVAVTGAAGQIGYSLLFRIAAGEMLGKDQPVILQLLEIPQA...\n",
       "9    MAPPQTIPRRGLFIGGAWREPCLGRRLPVVNPATEATIGDIPAGTA...\n",
       "Name: seq, dtype: object"
      ]
     },
     "execution_count": 13,
     "metadata": {},
     "output_type": "execute_result"
    }
   ],
   "source": [
    "import pandas as pd \n",
    "import os\n",
    "DATA_PATH = \"./data/raw/ph.csv\"\n",
    "df = pd.read_csv(DATA_PATH, index_col=None)\n",
    "df.iloc[:10]['seq']"
   ]
  },
  {
   "cell_type": "code",
   "execution_count": 14,
   "metadata": {},
   "outputs": [],
   "source": [
    "import torch\n",
    "from torch import nn\n",
    "import torch.utils.data\n",
    "import torch.utils.data.distributed\n",
    "from torch.utils.data import Dataset, DataLoader, RandomSampler, TensorDataset\n",
    "\n",
    "class ProteinSequenceDataset(Dataset):\n",
    "    def __init__(self, sequence, targets, tokenizer, max_len):\n",
    "        self.sequence = sequence\n",
    "        self.targets = targets\n",
    "        self.tokenizer = tokenizer\n",
    "        self.max_len = max_len\n",
    "\n",
    "    def __len__(self):\n",
    "        return len(self.sequence)\n",
    "\n",
    "    def __getitem__(self, item):\n",
    "        sequence = str(self.sequence[item])\n",
    "        target = self.targets[item]\n",
    "        encoding = self.tokenizer.encode_plus(\n",
    "            sequence,\n",
    "            truncation=True,\n",
    "            add_special_tokens=True,\n",
    "            max_length=self.max_len,\n",
    "            return_token_type_ids=False,\n",
    "            padding='max_length',\n",
    "            return_attention_mask=True,\n",
    "            return_tensors='pt',\n",
    "        )\n",
    "        return {\n",
    "          'protein_sequence': sequence,\n",
    "          'input_ids': encoding['input_ids'].flatten(),\n",
    "          'attention_mask': encoding['attention_mask'].flatten(),\n",
    "          'targets': torch.tensor(target, dtype=torch.long)\n",
    "        }"
   ]
  },
  {
   "cell_type": "code",
   "execution_count": 17,
   "metadata": {},
   "outputs": [],
   "source": [
    "from transformers import BertModel, BertTokenizer\n",
    "import re\n",
    "tokenizer = BertTokenizer.from_pretrained(\"Rostlab/prot_bert\", do_lower_case=False )\n",
    "# model = BertModel.from_pretrained(\"Rostlab/prot_bert\")"
   ]
  },
  {
   "cell_type": "code",
   "execution_count": 18,
   "metadata": {},
   "outputs": [],
   "source": [
    "train_dataset = ProteinSequenceDataset(sequence=df.iloc[:1000]['seq'],targets= df.iloc[:1000]['label'],tokenizer= tokenizer, max_len=512)"
   ]
  },
  {
   "cell_type": "code",
   "execution_count": 19,
   "metadata": {},
   "outputs": [],
   "source": [
    "# Import modules that would be used later.\n",
    "import os, random, pickle, itertools, copy\n",
    "import learn2learn as l2l\n",
    "import torchvision as tv\n",
    "from PIL.Image import LANCZOS\n",
    "from learn2learn.data.transforms import NWays, KShots, LoadData, RemapLabels, ConsecutiveLabels, FusedNWaysKShots\n",
    "from learn2learn.vision.transforms import RandomClassRotation\n",
    "from collections import defaultdict"
   ]
  },
  {
   "cell_type": "code",
   "execution_count": 20,
   "metadata": {},
   "outputs": [
    {
     "ename": "AttributeError",
     "evalue": "'ProteinSequenceDataset' object has no attribute 'labels'",
     "output_type": "error",
     "traceback": [
      "\u001b[0;31m---------------------------------------------------------------------------\u001b[0m",
      "\u001b[0;31mAttributeError\u001b[0m                            Traceback (most recent call last)",
      "\u001b[1;32m/home/mohre/Desktop/python/protein/maml.ipynb Cell 7'\u001b[0m in \u001b[0;36m<cell line: 4>\u001b[0;34m()\u001b[0m\n\u001b[1;32m      <a href='vscode-notebook-cell:/home/mohre/Desktop/python/protein/maml.ipynb#ch0000005?line=0'>1</a>\u001b[0m ways \u001b[39m=\u001b[39m \u001b[39m2\u001b[39m \n\u001b[1;32m      <a href='vscode-notebook-cell:/home/mohre/Desktop/python/protein/maml.ipynb#ch0000005?line=1'>2</a>\u001b[0m shots\u001b[39m=\u001b[39m \u001b[39m5\u001b[39m\n\u001b[1;32m      <a href='vscode-notebook-cell:/home/mohre/Desktop/python/protein/maml.ipynb#ch0000005?line=2'>3</a>\u001b[0m train_transforms \u001b[39m=\u001b[39m [\n\u001b[0;32m----> <a href='vscode-notebook-cell:/home/mohre/Desktop/python/protein/maml.ipynb#ch0000005?line=3'>4</a>\u001b[0m     FusedNWaysKShots(train_dataset, n\u001b[39m=\u001b[39;49mways, k\u001b[39m=\u001b[39;49m\u001b[39m2\u001b[39;49m\u001b[39m*\u001b[39;49mshots),\n\u001b[1;32m      <a href='vscode-notebook-cell:/home/mohre/Desktop/python/protein/maml.ipynb#ch0000005?line=4'>5</a>\u001b[0m     LoadData(train_dataset),\n\u001b[1;32m      <a href='vscode-notebook-cell:/home/mohre/Desktop/python/protein/maml.ipynb#ch0000005?line=5'>6</a>\u001b[0m     RemapLabels(train_dataset),\n\u001b[1;32m      <a href='vscode-notebook-cell:/home/mohre/Desktop/python/protein/maml.ipynb#ch0000005?line=6'>7</a>\u001b[0m     ConsecutiveLabels(train_dataset),\n\u001b[1;32m      <a href='vscode-notebook-cell:/home/mohre/Desktop/python/protein/maml.ipynb#ch0000005?line=7'>8</a>\u001b[0m ]\n\u001b[1;32m      <a href='vscode-notebook-cell:/home/mohre/Desktop/python/protein/maml.ipynb#ch0000005?line=8'>9</a>\u001b[0m train_tasks \u001b[39m=\u001b[39m l2l\u001b[39m.\u001b[39mdata\u001b[39m.\u001b[39mTaskDataset(train_dataset,\n\u001b[1;32m     <a href='vscode-notebook-cell:/home/mohre/Desktop/python/protein/maml.ipynb#ch0000005?line=9'>10</a>\u001b[0m                                    task_transforms\u001b[39m=\u001b[39mtrain_transforms,\n\u001b[1;32m     <a href='vscode-notebook-cell:/home/mohre/Desktop/python/protein/maml.ipynb#ch0000005?line=10'>11</a>\u001b[0m                                    num_tasks\u001b[39m=\u001b[39m\u001b[39m20000\u001b[39m)\n",
      "File \u001b[0;32mlearn2learn/data/transforms.pyx:359\u001b[0m, in \u001b[0;36mlearn2learn.data.transforms.FusedNWaysKShots.__init__\u001b[0;34m()\u001b[0m\n",
      "File \u001b[0;32mlearn2learn/data/transforms.pyx:384\u001b[0m, in \u001b[0;36mlearn2learn.data.transforms.CythonFusedNWaysKShots.__init__\u001b[0;34m()\u001b[0m\n",
      "\u001b[0;31mAttributeError\u001b[0m: 'ProteinSequenceDataset' object has no attribute 'labels'"
     ]
    }
   ],
   "source": [
    "ways = 2 \n",
    "shots= 5\n",
    "train_transforms = [\n",
    "    FusedNWaysKShots(train_dataset, n=ways, k=2*shots),\n",
    "    LoadData(train_dataset),\n",
    "    RemapLabels(train_dataset),\n",
    "    ConsecutiveLabels(train_dataset),\n",
    "]\n",
    "train_tasks = l2l.data.TaskDataset(train_dataset,\n",
    "                                   task_transforms=train_transforms,\n",
    "                                   num_tasks=20000)"
   ]
  }
 ],
 "metadata": {
  "interpreter": {
   "hash": "e7370f93d1d0cde622a1f8e1c04877d8463912d04d973331ad4851f04de6915a"
  },
  "kernelspec": {
   "display_name": "Python 3.8.10 64-bit",
   "language": "python",
   "name": "python3"
  },
  "language_info": {
   "codemirror_mode": {
    "name": "ipython",
    "version": 3
   },
   "file_extension": ".py",
   "mimetype": "text/x-python",
   "name": "python",
   "nbconvert_exporter": "python",
   "pygments_lexer": "ipython3",
   "version": "3.8.10"
  },
  "orig_nbformat": 4
 },
 "nbformat": 4,
 "nbformat_minor": 2
}
